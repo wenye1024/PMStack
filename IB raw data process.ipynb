{
 "cells": [
  {
   "cell_type": "code",
   "execution_count": 2,
   "metadata": {},
   "outputs": [],
   "source": [
    "# creates a trade history by reading InteractiveBrokers' CSV-formated report\n",
    "\n",
    "import pandas as pd\n",
    "import numpy as np\n",
    "import math\n",
    "import Tools.data_cleanup_helpers as d_helpers\n",
    "import Tools.helpers as helpers\n",
    "import datetime\n",
    "\n",
    "data = pd.read_csv('P:/aaa.csv', header = None)\n",
    "\n",
    "def get_sheet(data, s):\n",
    "    df = data[data[0]==s]\n",
    "    return d_helpers.make_first_row_as_header(df)\n",
    "\n",
    "def update_ticker(df, header = 'Ticker'):\n",
    "    for i in df.index:\n",
    "        currency = df.loc[i,'Currency']\n",
    "        if currency == 'HKD':\n",
    "            df.loc[i,header] += ' HK'\n",
    "        elif currency == 'JPY':\n",
    "            df.loc[i,header] = df.loc[i, header][:-2] + ' JP'\n",
    "        elif currency == 'GBP':\n",
    "            df.loc[i,header] += ' LN'\n",
    "\n",
    "def str_to_date(s):\n",
    "    a = helpers.string_to_date(s)\n",
    "    return pd.Timestamp(year=a.year, month=a.month, day=a.day)\n",
    "\n",
    "def weekday(d):\n",
    "    if d.weekday() == 5:\n",
    "        return d + datetime.timedelta(days=2)\n",
    "    elif d.weekday() == 6:\n",
    "        return d + datetime.timedelta(days=1)\n",
    "    else:\n",
    "        return d"
   ]
  },
  {
   "cell_type": "code",
   "execution_count": 29,
   "metadata": {},
   "outputs": [],
   "source": [
    "trades = get_sheet(data, 'Trades')\n",
    "trades = trades[trades['Header']=='Data'][['Asset Category','Currency','Symbol','Date/Time','Quantity','Proceeds','Comm/Fee']]\n",
    "\n",
    "\n",
    "def stocks_to_equity(s):\n",
    "    if s == 'Stocks':\n",
    "        return 'Equity'\n",
    "    else:\n",
    "        return s\n",
    "\n",
    "\n",
    "trades['Type'] = trades['Asset Category'].map(stocks_to_equity)\n",
    "trades['Date'] = trades['Date/Time'].map(str_to_date)\n",
    "trades['Comm/Fee'] = trades['Comm/Fee'].astype('float32')\n",
    "trades['Amount'] = trades['Proceeds'].astype('float32') + trades['Comm/Fee']\n",
    "trades['Quantity'] = trades['Quantity'].map(d_helpers.convert_number_if_applicable)\n",
    "trades = trades[['Currency','Symbol','Quantity','Comm/Fee','Type','Date','Amount']]\n",
    "\n",
    "def trx_type(k):\n",
    "    if k>0:\n",
    "        return 'Buy'\n",
    "    else:\n",
    "        return 'Sell'\n",
    "\n",
    "trades['Trx type'] = trades['Quantity'].map(trx_type)    \n",
    "a = pd.pivot_table(trades,index=['Currency','Symbol','Type','Date','Trx type'],values=['Quantity','Comm/Fee','Amount'], aggfunc=[np.sum])\n",
    "a.columns = a.columns.get_level_values(1)\n",
    "trades = a.reset_index()[['Trx type','Symbol','Date','Amount','Comm/Fee','Currency','Quantity','Type']]\n",
    "\n",
    "for i in trades.index:\n",
    "    t = trades.loc[i,'Type']\n",
    "    if t == 'Equity':\n",
    "        currency = trades.loc[i,'Currency']\n",
    "        if currency == 'HKD':\n",
    "            trades.loc[i,'Symbol'] += ' HK'\n",
    "            trades.loc[i,'Date'] += datetime.timedelta(days=1)\n",
    "        elif currency == 'JPY':\n",
    "            trades.loc[i,'Symbol'] = trades.loc[i,'Symbol'][:-2] + ' JP'\n",
    "            trades.loc[i,'Date'] += datetime.timedelta(days=1)\n",
    "        elif currency == 'GBP':\n",
    "            trades.loc[i,'Symbol']  += ' LN'\n",
    "\n",
    "trades.rename(columns = {'Symbol':'Ticker'}, inplace = True)\n",
    "\n",
    "def option_type(sss):\n",
    "    if (sss[sss.find(' ')+1:]).find('P')>-1:\n",
    "        return 'Put'\n",
    "    if (sss[sss.find(' ')+1:]).find('C')>-1:\n",
    "        return 'Call'\n",
    "    return 'Other'\n",
    "\n",
    "t = trades[trades['Type']=='Equity and Index Options']\n",
    "tt = t['Ticker'].map(option_type)\n",
    "trades.loc[tt.index,'Type'] = tt\n",
    "\n",
    "\n",
    "def covert_option_name(s):\n",
    "    l = s.split()\n",
    "    ticker = l[0]\n",
    "    d = datetime.datetime.strptime(l[1], '%d%b%y').strftime('%m/%d/%y')\n",
    "    px = float(l[2])\n",
    "\n",
    "    t = l[3]\n",
    "    return ticker + ' ' + d + ' '+t+str(px)\n",
    "tt = t['Ticker'].map(covert_option_name)\n",
    "trades.loc[tt.index,'Ticker'] = tt"
   ]
  },
  {
   "cell_type": "code",
   "execution_count": 9,
   "metadata": {},
   "outputs": [],
   "source": [
    "deposits = get_sheet(data, 'Deposits & Withdrawals')\n",
    "deposits = deposits[deposits['Header']=='Data']\n",
    "deposits = deposits[deposits['Currency']!='Total']\n",
    "deposits['Trx type'] = 'Deposit'\n",
    "deposits['Date'] = deposits['Settle Date'].map(str_to_date)\n",
    "deposits['Amount'] = deposits['Amount'].map(d_helpers.convert_number_if_applicable)\n",
    "deposits = deposits.reset_index()[['Trx type', 'Currency', 'Date', 'Amount']]"
   ]
  },
  {
   "cell_type": "code",
   "execution_count": 10,
   "metadata": {},
   "outputs": [],
   "source": [
    "dividends = get_sheet(data, 'Dividends')\n",
    "dividends = dividends[dividends['Header']=='Data']\n",
    "dividends = dividends[dividends['Currency']!='Total']\n",
    "dividends['Trx type'] = 'Dividends'\n",
    "dividends = dividends[dividends['Date'].fillna('Ha') != 'Ha']\n",
    "dividends['Amount'] = dividends['Amount'].map(d_helpers.convert_number_if_applicable)\n",
    "dividends['Ticker'] = dividends['Description'].map(lambda s: s[0:s.find('(')])\n",
    "dividends['Date'] = dividends['Date'].map(str_to_date)\n",
    "dividends = dividends[['Trx type','Ticker','Date','Currency','Amount']]\n",
    "update_ticker(dividends)"
   ]
  },
  {
   "cell_type": "code",
   "execution_count": 11,
   "metadata": {},
   "outputs": [],
   "source": [
    "interest = get_sheet(data, 'Interest')\n",
    "interest = interest[interest['Header']=='Data']\n",
    "interest = interest[interest['Date'].map(lambda s: type(s) is str)]\n",
    "interest['Date'] = interest['Date'].map(str_to_date)\n",
    "interest['Amount'] = interest['Amount'].map(d_helpers.convert_number_if_applicable)\n",
    "def type_of_interest(s):\n",
    "    if s.find('Short Stock')>-1:\n",
    "        return 'Short interest'\n",
    "    else:\n",
    "        return 'Other'\n",
    "\n",
    "interest['Ticker'] = interest['Description'].map(type_of_interest)\n",
    "interest.rename(columns = {'Interest':'Trx type'}, inplace=True)\n",
    "interest = interest[['Trx type','Ticker','Date', 'Currency','Amount']]"
   ]
  },
  {
   "cell_type": "code",
   "execution_count": 30,
   "metadata": {},
   "outputs": [],
   "source": [
    "output = pd.concat([trades, deposits, dividends, interest], axis=0, sort=False).sort_values(by=['Date'])\n",
    "output = output.reset_index().drop(columns='index')\n",
    "\n",
    "output['Date'] = output['Date'].map(weekday)\n",
    "output.to_excel('P:/output_trades.xlsx')"
   ]
  },
  {
   "cell_type": "code",
   "execution_count": 164,
   "metadata": {},
   "outputs": [
    {
     "data": {
      "text/plain": [
       "-785.2400000000001"
      ]
     },
     "execution_count": 164,
     "metadata": {},
     "output_type": "execute_result"
    }
   ],
   "source": [
    "def str_to_28th_of_month(s):\n",
    "    a = helpers.string_to_date(s)\n",
    "    return weekday(pd.Timestamp(year=a.year, month=a.month, day=28))\n",
    "\n",
    "borrow_fee = get_sheet(data, 'Borrow Fee Details')\n",
    "borrow_fee = borrow_fee[borrow_fee['Header']=='Data']\n",
    "borrow_fee = borrow_fee[borrow_fee['Value Date'].map(lambda s: type(s) is str)]\n",
    "borrow_fee['Date'] = borrow_fee['Value Date'].map(str_to_28th_of_month)\n",
    "borrow_fee['Amount'] = borrow_fee['Borrow Fee'].map(d_helpers.convert_number_if_applicable)\n",
    "borrow_fee.rename(columns = {'Symbol':'Ticker'}, inplace = True)\n",
    "borrow_fee = borrow_fee[['Ticker','Date', 'Currency','Amount']]\n",
    "update_ticker(borrow_fee)\n",
    "borrow_fee = pd.pivot_table(borrow_fee,index=['Currency','Ticker', 'Date'],values=['Amount'], aggfunc=[np.sum])\n",
    "borrow_fee.columns = borrow_fee.columns.get_level_values(1)\n",
    "borrow_fee.reset_index(inplace = True)\n",
    "borrow_fee['Trx type'] = 'Borrow Fee'"
   ]
  },
  {
   "cell_type": "code",
   "execution_count": null,
   "metadata": {},
   "outputs": [],
   "source": []
  }
 ],
 "metadata": {
  "kernelspec": {
   "display_name": "Python 3",
   "language": "python",
   "name": "python3"
  },
  "language_info": {
   "codemirror_mode": {
    "name": "ipython",
    "version": 3
   },
   "file_extension": ".py",
   "mimetype": "text/x-python",
   "name": "python",
   "nbconvert_exporter": "python",
   "pygments_lexer": "ipython3",
   "version": "3.7.5"
  }
 },
 "nbformat": 4,
 "nbformat_minor": 2
}
